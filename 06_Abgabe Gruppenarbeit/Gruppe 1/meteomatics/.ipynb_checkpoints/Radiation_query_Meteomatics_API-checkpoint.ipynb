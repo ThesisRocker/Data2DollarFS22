{
 "cells": [
  {
   "cell_type": "markdown",
   "metadata": {},
   "source": [
    "# Radiation per Gemeinde for Switzerland"
   ]
  },
  {
   "cell_type": "markdown",
   "metadata": {},
   "source": [
    "The following notebook uses the Meteomatics API (Weather Data Provider, normally not free of charge, but Yann Bregy works there and received the permission to use it for academic purposes). It retrieves data for all ZIP codes in Switzerland. We chose the 10-year average radiation per ZIP code and retrieved all data from April in a hourly interval. Although data from the whole year would be more accurate, it would have meant much more data points and hence more computationally intensive requests from the API, which timed out when we tried."
   ]
  },
  {
   "cell_type": "code",
   "execution_count": 1,
   "metadata": {
    "tags": []
   },
   "outputs": [],
   "source": [
    "import pandas as pd\n",
    "import numpy as np\n",
    "import datetime as dt\n",
    "import time\n",
    "import meteomatics.api as api\n",
    "from dateutil.relativedelta import relativedelta\n",
    "from __future__ import print_function\n",
    "import pprint\n",
    "import re"
   ]
  },
  {
   "cell_type": "code",
   "execution_count": 2,
   "metadata": {
    "tags": []
   },
   "outputs": [],
   "source": [
    "###Credentials for  Meteomatics API:\n",
    "username = 'ybregy'\n",
    "password = 'FnJUNA0OaoAM'"
   ]
  },
  {
   "cell_type": "code",
   "execution_count": 14,
   "metadata": {
    "tags": []
   },
   "outputs": [],
   "source": [
    "# Define start, end and interval of query\n",
    "# We chose the month of April as a representative month for an average analysis, a full year would have been computationally\n",
    "# too expensive for the API, leading to timeouts\n",
    "now = dt.datetime.utcnow().replace(hour=0, minute=0, second=0, microsecond=0)\n",
    "startdate_ts = dt.datetime(2022, 4,1, 0, 0)\n",
    "enddate_ts = dt.datetime(2022, 5, 1, 0, 0)\n",
    "interval_ts = dt.timedelta(hours = 1)"
   ]
  },
  {
   "cell_type": "code",
   "execution_count": 11,
   "metadata": {
    "tags": []
   },
   "outputs": [],
   "source": [
    "# Use of 10 year mean radiation parameter, a measure of the average of the radiation over the last 10 years for \n",
    "# a given day and given hour\n",
    "parameters_ts = ['global_rad_10y_mean:W']"
   ]
  },
  {
   "cell_type": "code",
   "execution_count": 4,
   "metadata": {},
   "outputs": [
    {
     "data": {
      "text/html": [
       "<div>\n",
       "<style scoped>\n",
       "    .dataframe tbody tr th:only-of-type {\n",
       "        vertical-align: middle;\n",
       "    }\n",
       "\n",
       "    .dataframe tbody tr th {\n",
       "        vertical-align: top;\n",
       "    }\n",
       "\n",
       "    .dataframe thead th {\n",
       "        text-align: right;\n",
       "    }\n",
       "</style>\n",
       "<table border=\"1\" class=\"dataframe\">\n",
       "  <thead>\n",
       "    <tr style=\"text-align: right;\">\n",
       "      <th></th>\n",
       "      <th>Gde-Nr.</th>\n",
       "      <th>PLZ</th>\n",
       "      <th>Gemeinde</th>\n",
       "    </tr>\n",
       "  </thead>\n",
       "  <tbody>\n",
       "    <tr>\n",
       "      <th>0</th>\n",
       "      <td>2703</td>\n",
       "      <td>4125</td>\n",
       "      <td>Riehen</td>\n",
       "    </tr>\n",
       "    <tr>\n",
       "      <th>1</th>\n",
       "      <td>615</td>\n",
       "      <td>3532</td>\n",
       "      <td>Mirchel</td>\n",
       "    </tr>\n",
       "    <tr>\n",
       "      <th>2</th>\n",
       "      <td>692</td>\n",
       "      <td>2743</td>\n",
       "      <td>Eschert</td>\n",
       "    </tr>\n",
       "    <tr>\n",
       "      <th>3</th>\n",
       "      <td>884</td>\n",
       "      <td>3125</td>\n",
       "      <td>Toffen</td>\n",
       "    </tr>\n",
       "    <tr>\n",
       "      <th>4</th>\n",
       "      <td>6808</td>\n",
       "      <td>2882</td>\n",
       "      <td>Clos du Doubs</td>\n",
       "    </tr>\n",
       "  </tbody>\n",
       "</table>\n",
       "</div>"
      ],
      "text/plain": [
       "   Gde-Nr.   PLZ       Gemeinde\n",
       "0     2703  4125         Riehen\n",
       "1      615  3532        Mirchel\n",
       "2      692  2743        Eschert\n",
       "3      884  3125         Toffen\n",
       "4     6808  2882  Clos du Doubs"
      ]
     },
     "execution_count": 4,
     "metadata": {},
     "output_type": "execute_result"
    }
   ],
   "source": [
    "# Read the dataset from all the \"Gemeinden\" in Switzerland. Only the PLZ is important in that regard\n",
    "plz = pd.read_csv(\"plz.csv\", sep=';', encoding='latin-1')\n",
    "plz.head()"
   ]
  },
  {
   "cell_type": "code",
   "execution_count": 5,
   "metadata": {},
   "outputs": [],
   "source": [
    "# Insert postal_code column that respects the coordinate format of the Meteomatics API query\n",
    "plz[\"postal_code\"] = \"postal_CH\" + plz[\"PLZ\"].astype(str)"
   ]
  },
  {
   "cell_type": "code",
   "execution_count": 6,
   "metadata": {},
   "outputs": [],
   "source": [
    "# Insert empty column for radiation parameter that we are looking for \n",
    "plz['global_rad_10y_mean:W'] = 0"
   ]
  },
  {
   "cell_type": "code",
   "execution_count": 7,
   "metadata": {},
   "outputs": [],
   "source": [
    "# Set index of df to facilitate matching with API dataframe\n",
    "plz = plz.set_index('postal_code')"
   ]
  },
  {
   "cell_type": "code",
   "execution_count": 8,
   "metadata": {},
   "outputs": [],
   "source": [
    "# create a list of all postal codes in the CHXXXX format to use for the API query\n",
    "list_plz = plz.index.tolist()"
   ]
  },
  {
   "cell_type": "code",
   "execution_count": 9,
   "metadata": {},
   "outputs": [],
   "source": [
    "def split_list(lst, n):\n",
    "    \"\"\"Create a list of lists that breaks down the initial list into smaller chunks\n",
    "       Allows to split up the workload for the API and avoid timing out\n",
    "       Was inspired by https://stackoverflow.com/questions/312443/how-do-you-split-a-list-into-evenly-sized-chunks\"\"\"\n",
    "    for i in range(0, len(lst), n):\n",
    "        yield lst[i:i + n]"
   ]
  },
  {
   "cell_type": "code",
   "execution_count": 10,
   "metadata": {},
   "outputs": [],
   "source": [
    "# Split up the plz list into chunks of 50\n",
    "lists_plz = list(split_list(list_plz, 50))"
   ]
  },
  {
   "cell_type": "markdown",
   "metadata": {},
   "source": [
    "The following is the request from the API, which we broke down into chunks of 50 ZIP codes."
   ]
  },
  {
   "cell_type": "code",
   "execution_count": 12,
   "metadata": {},
   "outputs": [
    {
     "name": "stdout",
     "output_type": "stream",
     "text": [
      "Iteration 0 was succesful\n",
      "Iteration 1 was succesful\n",
      "Iteration 2 was succesful\n",
      "Iteration 3 was succesful\n",
      "Iteration 4 was succesful\n",
      "Iteration 5 was succesful\n",
      "Failed, the exception is Code CH2874 could not be found.\n",
      "postal_CH2874\n",
      "Failed, the exception is Code CH2875 could not be found.\n",
      "postal_CH2875\n",
      "Iteration 6 was succesful\n",
      "Iteration 7 was succesful\n",
      "Iteration 8 was succesful\n",
      "Iteration 9 was succesful\n",
      "Iteration 10 was succesful\n",
      "Iteration 11 was succesful\n",
      "Failed, the exception is Code CH2877 could not be found.\n",
      "postal_CH2877\n",
      "Iteration 12 was succesful\n",
      "Iteration 13 was succesful\n",
      "Iteration 14 was succesful\n",
      "Iteration 15 was succesful\n",
      "Iteration 16 was succesful\n",
      "Iteration 17 was succesful\n",
      "Iteration 18 was succesful\n",
      "Iteration 19 was succesful\n",
      "Iteration 20 was succesful\n",
      "Iteration 21 was succesful\n",
      "Iteration 22 was succesful\n",
      "Iteration 23 was succesful\n",
      "Iteration 24 was succesful\n",
      "Iteration 25 was succesful\n",
      "Iteration 26 was succesful\n",
      "Failed, the exception is Code CH7201 could not be found.\n",
      "postal_CH7201\n",
      "Failed, the exception is Code CH2875 could not be found.\n",
      "postal_CH2875\n",
      "Iteration 27 was succesful\n",
      "Iteration 28 was succesful\n",
      "Failed, the exception is Code CH4023 could not be found.\n",
      "postal_CH4023\n",
      "Iteration 29 was succesful\n",
      "Iteration 30 was succesful\n",
      "Iteration 31 was succesful\n",
      "Iteration 32 was succesful\n",
      "Iteration 33 was succesful\n",
      "Iteration 34 was succesful\n",
      "Iteration 35 was succesful\n",
      "Iteration 36 was succesful\n",
      "Failed, the exception is Code CH8423 could not be found.\n",
      "postal_CH8423\n",
      "Failed, the exception is Code CH8301 could not be found.\n",
      "postal_CH8301\n",
      "Iteration 37 was succesful\n",
      "Iteration 38 was succesful\n",
      "Iteration 39 was succesful\n",
      "Failed, the exception is Code CH9510 could not be found.\n",
      "postal_CH9510\n",
      "Iteration 40 was succesful\n",
      "Iteration 41 was succesful\n",
      "Iteration 42 was succesful\n",
      "Iteration 43 was succesful\n",
      "<class 'pandas.core.frame.DataFrame'>\n",
      "Index: 2166 entries, postal_CH4125 to postal_CH7440\n",
      "Data columns (total 4 columns):\n",
      " #   Column                 Non-Null Count  Dtype  \n",
      "---  ------                 --------------  -----  \n",
      " 0   Gde-Nr.                2166 non-null   int64  \n",
      " 1   PLZ                    2166 non-null   int64  \n",
      " 2   Gemeinde               2166 non-null   object \n",
      " 3   global_rad_10y_mean:W  2166 non-null   float64\n",
      "dtypes: float64(1), int64(2), object(1)\n",
      "memory usage: 84.6+ KB\n"
     ]
    }
   ],
   "source": [
    "#Iterate through list chunks to cover all ZIP codes (PLZ)\n",
    "for count, list_chunk in enumerate(lists_plz):\n",
    "    # Set coordinates of request to all the ZIP codes from that list chunk\n",
    "    coordinates_ts = list_chunk\n",
    "    while True:\n",
    "        try:\n",
    "            #Query from the API for the chunk of 50 locations and determined dates and parameters\n",
    "            df_ts = api.query_time_series(coordinates_ts, startdate_ts, enddate_ts, interval_ts,\n",
    "                                      parameters_ts, username, password)\n",
    "            \n",
    "        # In case a postal code is not found in the API, we deal with it by removing that PLZ from the list chunk\n",
    "        except Exception as e:\n",
    "            # If the plz is not in the database, an error with the given postal_code is printed\n",
    "            print(\"Failed, the exception is {}\".format(e))\n",
    "            \n",
    "            # x finds the postal code in question\n",
    "            x = re.findall(\"CH\\d\\d\\d\\d\", str(e))\n",
    "            \n",
    "            # y sets the postal code in the format such as in the list\n",
    "            y = \"postal_\" + str(x[0])\n",
    "            print(y) # Only to keep track of missing PLZ/ZIPs\n",
    "            \n",
    "            # Remove postal code from chunk and then repeat the loop\n",
    "            coordinates_ts.remove(y)\n",
    "        else:\n",
    "            # Take the average of all results for a given postal code (aggregation of 30*24 values)\n",
    "            df_ts = df_ts.groupby('postal_code').mean()\n",
    "            \n",
    "            # Merge results with initial dataframe \n",
    "            plz = plz.merge(df_ts, on=\"postal_code\", how=\"left\")\n",
    "            \n",
    "            # Delete excess columns that emerged from the merging operation\n",
    "            plz['global_rad_10y_mean:W'] = np.max(plz[['global_rad_10y_mean:W_x', 'global_rad_10y_mean:W_y']], axis=1)\n",
    "            plz = plz.drop(labels=['global_rad_10y_mean:W_x', 'global_rad_10y_mean:W_y'], axis=1)\n",
    "           \n",
    "            # Print succesful operation to keep track of scraping progress\n",
    "            print(\"Iteration {} was succesful\".format(count))\n",
    "            break\n",
    "    \n",
    "    # Make the loop sleep for 10 seconds to avoid excessive usage of API\n",
    "    time.sleep(10)\n",
    "\n",
    "# As soon as the loop is over, print the info of the dataframe to mark the end of the scraping\n",
    "plz.info()    "
   ]
  },
  {
   "cell_type": "code",
   "execution_count": 13,
   "metadata": {},
   "outputs": [],
   "source": [
    "# Export results to csv for further ROI analysis\n",
    "plz.to_csv(\"radiation_HourlyAverageAprilTenYear.csv\")"
   ]
  }
 ],
 "metadata": {
  "kernelspec": {
   "display_name": "Python 3",
   "language": "python",
   "name": "python3"
  },
  "language_info": {
   "codemirror_mode": {
    "name": "ipython",
    "version": 3
   },
   "file_extension": ".py",
   "mimetype": "text/x-python",
   "name": "python",
   "nbconvert_exporter": "python",
   "pygments_lexer": "ipython3",
   "version": "3.8.5"
  }
 },
 "nbformat": 4,
 "nbformat_minor": 4
}
