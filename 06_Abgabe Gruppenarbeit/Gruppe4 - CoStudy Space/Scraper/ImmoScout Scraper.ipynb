{
 "cells": [
  {
   "cell_type": "code",
   "execution_count": 1,
   "id": "b54388e9-a3a2-48be-95fd-5a9c892deee0",
   "metadata": {},
   "outputs": [],
   "source": [
    "from selenium.webdriver import Chrome\n",
    "from selenium.webdriver.common.keys import Keys\n",
    "from selenium.webdriver.support.ui import Select\n",
    "from selenium.webdriver.common.by import By\n",
    "from selenium.webdriver.support.ui import WebDriverWait\n",
    "from selenium.webdriver.support import expected_conditions as EC\n",
    "import pandas as pd\n",
    "pd.set_option('display.max_rows', 100000)\n",
    "import time"
   ]
  },
  {
   "cell_type": "code",
   "execution_count": null,
   "id": "b0df30ef",
   "metadata": {},
   "outputs": [],
   "source": [
    "driver = Chrome(executable_path=r\"c:\\Users\\cm\\Documents\\chromedriver\\chromedriver.exe\")"
   ]
  },
  {
   "cell_type": "code",
   "execution_count": 23,
   "id": "57595e3b-dc01-4d6c-99b6-bdd022bd81de",
   "metadata": {},
   "outputs": [],
   "source": [
    "driver.get(\"https://www.immoscout24.ch/de\")"
   ]
  },
  {
   "cell_type": "code",
   "execution_count": 29,
   "id": "19afd8f9-1ebd-45af-8efa-414cb8c2ca1d",
   "metadata": {},
   "outputs": [],
   "source": [
    "#Standort auswählen\n",
    "where = 'Zürich'\n",
    "wohnungstyp = []"
   ]
  },
  {
   "cell_type": "code",
   "execution_count": 30,
   "id": "3e863020-9433-4fe6-81f4-83ce7ecb0dbf",
   "metadata": {},
   "outputs": [],
   "source": [
    "search_form = driver.find_element(by=By.ID, value='form-field-1')\n",
    "select = Select(driver.find_element(by=By.NAME, value ='s'))\n",
    "for o in select.options:\n",
    "    wohnungstyp.append(o.text)"
   ]
  },
  {
   "cell_type": "code",
   "execution_count": 31,
   "id": "5b038b03-2c9e-4973-a468-0f7f21dc04b0",
   "metadata": {},
   "outputs": [
    {
     "data": {
      "text/plain": [
       "['Wohnung, Haus',\n",
       " 'Wohnung',\n",
       " 'Haus',\n",
       " 'Möbliertes Wohnobjekt',\n",
       " 'Grundstück',\n",
       " 'Parkplatz',\n",
       " 'Büro, Gewerbe, Industrie',\n",
       " 'Landwirtschaft',\n",
       " 'Andere Objekte']"
      ]
     },
     "execution_count": 31,
     "metadata": {},
     "output_type": "execute_result"
    }
   ],
   "source": [
    "wohnungstyp"
   ]
  },
  {
   "cell_type": "code",
   "execution_count": 32,
   "id": "df0cb356-2d1e-49d0-b47d-53b665ff7d71",
   "metadata": {},
   "outputs": [],
   "source": [
    "#Objekt von Liste oben auswählen\n",
    "select.select_by_visible_text('Wohnung')\n",
    "search_form.send_keys(where)"
   ]
  },
  {
   "cell_type": "code",
   "execution_count": 33,
   "id": "67485621-a0fa-4997-9e5b-0ea2cba6458c",
   "metadata": {},
   "outputs": [],
   "source": [
    "search_form.send_keys(Keys.ENTER)"
   ]
  },
  {
   "cell_type": "code",
   "execution_count": 34,
   "id": "a3f5da6b-e8a9-47c1-9b85-ac68d3cfb447",
   "metadata": {},
   "outputs": [],
   "source": [
    "driver.find_element(by=By.XPATH, value=\"//button[@type='submit']\").click()"
   ]
  },
  {
   "cell_type": "code",
   "execution_count": 35,
   "id": "475fcb09-55f8-4699-8115-0e6e88a661da",
   "metadata": {
    "tags": []
   },
   "outputs": [],
   "source": [
    "def get_listing():\n",
    "    info_list = []\n",
    "    for x in range(1,101):\n",
    "        try:\n",
    "            try:\n",
    "                try:\n",
    "                    element1 = driver.find_element(by=By.XPATH, value=\n",
    "                                                   '//*[@id=\"root\"]/div[2]/main/div/div[1]/div[2]/article[{}]/a/div[1]/div/div[2]/div[2]/address/button/span'.format(x)\n",
    "                    )\n",
    "                except:\n",
    "                    element1 = driver.find_element(by=By.XPATH, value=\n",
    "                                                   '//*[@id=\"root\"]/div[2]/main/div/div[1]/div[2]/article[{}]/a/div[1]/div/div[2]/div[1]/address/button/span'.format(x)\n",
    "                    )\n",
    "            except:\n",
    "                element1 = driver.find_element(by=By.XPATH, value=\n",
    "                                               '//*[@id=\"root\"]/div[2]/main/div/div[1]/div[2]/article[{}]/a/div[1]/div/div[2]/div[2]/address/span/span'.format(x)\n",
    "                    )\n",
    "            try:\n",
    "                element2 = driver.find_element(by=By.XPATH, value=\n",
    "                                               '//*[@id=\"root\"]/div[2]/main/div/div[1]/div[2]/article[{}]/a/div[1]/div/div[2]/div[2]/h3'.format(x)\n",
    "                )\n",
    "            except:\n",
    "                element2 = driver.find_element(by=By.XPATH, value=\n",
    "                                               '//*[@id=\"root\"]/div[2]/main/div/div[1]/div[2]/article[{}]/a/div[1]/div/div[2]/div[1]/h3'.format(x)\n",
    "                )\n",
    "        except:\n",
    "            continue\n",
    "        address_info = element1.text.split(',')\n",
    "        listing_specification = element2.text.split(', ')\n",
    "        try:\n",
    "            info_list.append(\n",
    "                {\n",
    "                    'Address Listing': address_info[0],\n",
    "                    'Postleitzahl': address_info[1],\n",
    "                    'Anzahl Zimmer': listing_specification[0],\n",
    "                    'Wohnfläche': listing_specification[1],\n",
    "                    'Preis': listing_specification[2]\n",
    "                }\n",
    "            )\n",
    "        except:\n",
    "            try:\n",
    "                info_list.append(\n",
    "                    {\n",
    "                        'Address Listing': address_info[0],\n",
    "                        'Postleitzahl': address_info[1],\n",
    "                        'Anzahl Zimmer': listing_specification[0],\n",
    "                        'Preis': listing_specification[1]\n",
    "                    }\n",
    "                )\n",
    "            except:\n",
    "                info_list.append(\n",
    "                    {\n",
    "                        'Address Listing': address_info[0],\n",
    "                        'Postleitzahl': address_info[1],\n",
    "                        'Preis': listing_specification[0]\n",
    "                    }\n",
    "                )                \n",
    "    return info_list            "
   ]
  },
  {
   "cell_type": "code",
   "execution_count": 36,
   "id": "67087675-9b54-44c5-96f0-f72e86e65220",
   "metadata": {
    "tags": []
   },
   "outputs": [],
   "source": [
    "data = get_listing()\n",
    "df = pd.DataFrame(data)\n",
    "#Seitenzahl bei Bedarf ändern --> immer mit 2 beginnen; letzte Seite +1\n",
    "for page in range(2,18):\n",
    "    driver.get(\"https://www.immoscout24.ch/de/wohnung/mieten/ort-zuerich?pn={}\".format(page))\n",
    "    df = df.append(get_listing())"
   ]
  },
  {
   "cell_type": "code",
   "execution_count": 37,
   "id": "3f18a1c9-28b5-440a-aed7-9e70ec8aca82",
   "metadata": {},
   "outputs": [],
   "source": [
    "df.reset_index(inplace=True)"
   ]
  },
  {
   "cell_type": "code",
   "execution_count": 38,
   "id": "f499de03-bbbd-40e6-86fa-5f46333b83d2",
   "metadata": {},
   "outputs": [],
   "source": [
    "del df['index']"
   ]
  },
  {
   "cell_type": "code",
   "execution_count": null,
   "id": "65327608-d78c-40a4-9d32-027daa354b9f",
   "metadata": {},
   "outputs": [],
   "source": [
    "df.to_csv('immoscout.csv')"
   ]
  },
  {
   "cell_type": "code",
   "execution_count": 41,
   "id": "0c39a51e-02df-4cd3-8aeb-b5f90f7cd768",
   "metadata": {},
   "outputs": [
    {
     "data": {
      "text/html": [
       "<div>\n",
       "<style scoped>\n",
       "    .dataframe tbody tr th:only-of-type {\n",
       "        vertical-align: middle;\n",
       "    }\n",
       "\n",
       "    .dataframe tbody tr th {\n",
       "        vertical-align: top;\n",
       "    }\n",
       "\n",
       "    .dataframe thead th {\n",
       "        text-align: right;\n",
       "    }\n",
       "</style>\n",
       "<table border=\"1\" class=\"dataframe\">\n",
       "  <thead>\n",
       "    <tr style=\"text-align: right;\">\n",
       "      <th></th>\n",
       "      <th>Address Listing</th>\n",
       "      <th>Postleitzahl</th>\n",
       "      <th>Anzahl Zimmer</th>\n",
       "      <th>Wohnfläche</th>\n",
       "      <th>Preis</th>\n",
       "    </tr>\n",
       "  </thead>\n",
       "  <tbody>\n",
       "    <tr>\n",
       "      <th>0</th>\n",
       "      <td>Uetlibergstrasse 77</td>\n",
       "      <td>8045 Zürich</td>\n",
       "      <td>2 Zimmer</td>\n",
       "      <td>50 m²</td>\n",
       "      <td>CHF 2690.—</td>\n",
       "    </tr>\n",
       "    <tr>\n",
       "      <th>1</th>\n",
       "      <td>Uetlibergstrasse 77</td>\n",
       "      <td>8045 Zürich</td>\n",
       "      <td>1 Zimmer</td>\n",
       "      <td>37 m²</td>\n",
       "      <td>CHF 1990.—</td>\n",
       "    </tr>\n",
       "    <tr>\n",
       "      <th>2</th>\n",
       "      <td>Uetlibergstrasse 77</td>\n",
       "      <td>8045 Zürich</td>\n",
       "      <td>1 Zimmer</td>\n",
       "      <td>34 m²</td>\n",
       "      <td>CHF 1570.—</td>\n",
       "    </tr>\n",
       "    <tr>\n",
       "      <th>3</th>\n",
       "      <td>Uetlibergstrasse 77</td>\n",
       "      <td>8045 Zürich</td>\n",
       "      <td>2 Zimmer</td>\n",
       "      <td>39 m²</td>\n",
       "      <td>CHF 2490.—</td>\n",
       "    </tr>\n",
       "    <tr>\n",
       "      <th>4</th>\n",
       "      <td>Kürbergstrasse 24</td>\n",
       "      <td>8049 Zürich</td>\n",
       "      <td>2 Zimmer</td>\n",
       "      <td>67 m²</td>\n",
       "      <td>CHF 2950.—</td>\n",
       "    </tr>\n",
       "  </tbody>\n",
       "</table>\n",
       "</div>"
      ],
      "text/plain": [
       "       Address Listing  Postleitzahl Anzahl Zimmer Wohnfläche       Preis\n",
       "0  Uetlibergstrasse 77   8045 Zürich      2 Zimmer      50 m²  CHF 2690.—\n",
       "1  Uetlibergstrasse 77   8045 Zürich      1 Zimmer      37 m²  CHF 1990.—\n",
       "2  Uetlibergstrasse 77   8045 Zürich      1 Zimmer      34 m²  CHF 1570.—\n",
       "3  Uetlibergstrasse 77   8045 Zürich      2 Zimmer      39 m²  CHF 2490.—\n",
       "4    Kürbergstrasse 24   8049 Zürich      2 Zimmer      67 m²  CHF 2950.—"
      ]
     },
     "execution_count": 41,
     "metadata": {},
     "output_type": "execute_result"
    }
   ],
   "source": [
    "df.head()"
   ]
  },
  {
   "cell_type": "code",
   "execution_count": null,
   "id": "8bd7aea5-1d9a-492e-a790-1bbc72d00a4b",
   "metadata": {},
   "outputs": [],
   "source": []
  }
 ],
 "metadata": {
  "kernelspec": {
   "display_name": "Python 3 (ipykernel)",
   "language": "python",
   "name": "python3"
  },
  "language_info": {
   "codemirror_mode": {
    "name": "ipython",
    "version": 3
   },
   "file_extension": ".py",
   "mimetype": "text/x-python",
   "name": "python",
   "nbconvert_exporter": "python",
   "pygments_lexer": "ipython3",
   "version": "3.9.7"
  }
 },
 "nbformat": 4,
 "nbformat_minor": 5
}
