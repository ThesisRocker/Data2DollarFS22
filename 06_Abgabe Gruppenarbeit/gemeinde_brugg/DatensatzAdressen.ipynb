{
 "cells": [
  {
   "cell_type": "code",
   "execution_count": 1,
   "metadata": {},
   "outputs": [],
   "source": [
    "# Set path to desired folder where data is stored\n",
    "path = \"C:/Users/bregy/DataScience/Data2Dollar/Gruppenarbeit/\""
   ]
  },
  {
   "cell_type": "code",
   "execution_count": 2,
   "metadata": {},
   "outputs": [],
   "source": [
    "import pandas as pd"
   ]
  },
  {
   "cell_type": "code",
   "execution_count": 3,
   "metadata": {},
   "outputs": [
    {
     "name": "stderr",
     "output_type": "stream",
     "text": [
      "C:\\Users\\bregy\\anaconda3\\lib\\site-packages\\IPython\\core\\interactiveshell.py:3146: DtypeWarning: Columns (7) have mixed types.Specify dtype option on import or set low_memory=False.\n",
      "  has_raised = await self.run_ast_nodes(code_ast.body, cell_name,\n"
     ]
    }
   ],
   "source": [
    "# Read data with pandas\n",
    "adressen = pd.read_csv(path + \"pure_adr.csv\", sep=\";\")"
   ]
  },
  {
   "cell_type": "code",
   "execution_count": 4,
   "metadata": {},
   "outputs": [
    {
     "name": "stdout",
     "output_type": "stream",
     "text": [
      "<class 'pandas.core.frame.DataFrame'>\n",
      "RangeIndex: 2938956 entries, 0 to 2938955\n",
      "Data columns (total 17 columns):\n",
      " #   Column        Dtype \n",
      "---  ------        ----- \n",
      " 0   ADR_EGAID     int64 \n",
      " 1   STR_ESID      int64 \n",
      " 2   BDG_EGID      int64 \n",
      " 3   ADR_EDID      int64 \n",
      " 4   STN_LABEL     object\n",
      " 5   ADR_NUMBER    object\n",
      " 6   BDG_CATEGORY  object\n",
      " 7   BDG_NAME      object\n",
      " 8   ZIP_LABEL     object\n",
      " 9   COM_FOSNR     int64 \n",
      " 10  COM_CANTON    object\n",
      " 11  ADR_STATUS    object\n",
      " 12  ADR_OFFICIAL  bool  \n",
      " 13  ADR_VALID     bool  \n",
      " 14  ADR_MODIFIED  object\n",
      " 15  ADR_EASTING   int64 \n",
      " 16  ADR_NORTHING  int64 \n",
      "dtypes: bool(2), int64(7), object(8)\n",
      "memory usage: 341.9+ MB\n"
     ]
    }
   ],
   "source": [
    "adressen.info()"
   ]
  },
  {
   "cell_type": "markdown",
   "metadata": {},
   "source": [
    "The dataset contains 2'938'956 addresses for Switzerland. Given the volume and scraping time, we chose to narrow down our analysis to one Gemeinde by first identifying the most promising Gemeinde in terms of electricity prices, feed-in compensation and solar radiation. The result yielded the best ROI for the Gemeinde of Brügg in the canton of Bern."
   ]
  },
  {
   "cell_type": "code",
   "execution_count": 5,
   "metadata": {},
   "outputs": [
    {
     "name": "stdout",
     "output_type": "stream",
     "text": [
      "<class 'pandas.core.frame.DataFrame'>\n",
      "Int64Index: 1223 entries, 492 to 2930610\n",
      "Data columns (total 17 columns):\n",
      " #   Column        Non-Null Count  Dtype \n",
      "---  ------        --------------  ----- \n",
      " 0   ADR_EGAID     1223 non-null   int64 \n",
      " 1   STR_ESID      1223 non-null   int64 \n",
      " 2   BDG_EGID      1223 non-null   int64 \n",
      " 3   ADR_EDID      1223 non-null   int64 \n",
      " 4   STN_LABEL     1223 non-null   object\n",
      " 5   ADR_NUMBER    1223 non-null   object\n",
      " 6   BDG_CATEGORY  1223 non-null   object\n",
      " 7   BDG_NAME      0 non-null      object\n",
      " 8   ZIP_LABEL     1223 non-null   object\n",
      " 9   COM_FOSNR     1223 non-null   int64 \n",
      " 10  COM_CANTON    1223 non-null   object\n",
      " 11  ADR_STATUS    1223 non-null   object\n",
      " 12  ADR_OFFICIAL  1223 non-null   bool  \n",
      " 13  ADR_VALID     1223 non-null   bool  \n",
      " 14  ADR_MODIFIED  1223 non-null   object\n",
      " 15  ADR_EASTING   1223 non-null   int64 \n",
      " 16  ADR_NORTHING  1223 non-null   int64 \n",
      "dtypes: bool(2), int64(7), object(8)\n",
      "memory usage: 155.3+ KB\n"
     ]
    }
   ],
   "source": [
    "# Narrow down the dataset to all addresses from Brügg (1223 addresses)\n",
    "brugg = adressen.loc[adressen[\"ZIP_LABEL\"] == \"2555 Brügg BE\"]\n",
    "brugg.info()"
   ]
  },
  {
   "cell_type": "code",
   "execution_count": 14,
   "metadata": {},
   "outputs": [],
   "source": [
    "# Exporting the adresses to csv\n",
    "brugg.to_csv('daten_brugg.csv')"
   ]
  },
  {
   "cell_type": "code",
   "execution_count": 7,
   "metadata": {},
   "outputs": [],
   "source": [
    "# Zur  Umwandlung der Schweizer Koordinaten (LV95) in GPS (WGS84) braucht Swiss Topo eine Datei nur mit Koordinaten\n",
    "# https://www.swisstopo.admin.ch/de/karten-daten-online/calculation-services/reframe.html\n",
    "brugg_coordinates = brugg[[\"ADR_EASTING\", \"ADR_NORTHING\"]]"
   ]
  },
  {
   "cell_type": "code",
   "execution_count": 8,
   "metadata": {},
   "outputs": [
    {
     "name": "stdout",
     "output_type": "stream",
     "text": [
      "<class 'pandas.core.frame.DataFrame'>\n",
      "Int64Index: 1223 entries, 492 to 2930610\n",
      "Data columns (total 2 columns):\n",
      " #   Column        Non-Null Count  Dtype\n",
      "---  ------        --------------  -----\n",
      " 0   ADR_EASTING   1223 non-null   int64\n",
      " 1   ADR_NORTHING  1223 non-null   int64\n",
      "dtypes: int64(2)\n",
      "memory usage: 28.7 KB\n"
     ]
    }
   ],
   "source": [
    "brugg_coordinates.info()"
   ]
  },
  {
   "cell_type": "code",
   "execution_count": 10,
   "metadata": {},
   "outputs": [],
   "source": [
    "brugg_coordinates.to_csv('brugg_coordinates.csv')\n",
    "# Nach Umwandeln der Koordinaten wurden diese einfach in das Excel eingefügt"
   ]
  }
 ],
 "metadata": {
  "kernelspec": {
   "display_name": "Python 3",
   "language": "python",
   "name": "python3"
  },
  "language_info": {
   "codemirror_mode": {
    "name": "ipython",
    "version": 3
   },
   "file_extension": ".py",
   "mimetype": "text/x-python",
   "name": "python",
   "nbconvert_exporter": "python",
   "pygments_lexer": "ipython3",
   "version": "3.8.5"
  }
 },
 "nbformat": 4,
 "nbformat_minor": 4
}
